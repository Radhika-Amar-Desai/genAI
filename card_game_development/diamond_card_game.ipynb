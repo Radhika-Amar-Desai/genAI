{
 "cells": [
  {
   "cell_type": "code",
   "execution_count": 1,
   "metadata": {},
   "outputs": [],
   "source": [
    "import random\n",
    "\n",
    "# Define card values (dictionary for easy reference)\n",
    "card_values = {\n",
    "    \"2\": 2,\n",
    "    \"3\": 3,\n",
    "    \"4\": 4,\n",
    "    \"5\": 5,\n",
    "    \"6\": 6,\n",
    "    \"7\": 7,\n",
    "    \"8\": 8,\n",
    "    \"9\": 9,\n",
    "    \"10\": 10,\n",
    "    \"J\": 11,\n",
    "    \"Q\": 12,\n",
    "    \"K\": 13,\n",
    "    \"A\": 14\n",
    "}"
   ]
  },
  {
   "cell_type": "code",
   "execution_count": 2,
   "metadata": {},
   "outputs": [],
   "source": [
    "class Card:\n",
    "  def __init__(self, suit, value):\n",
    "    self.suit = suit\n",
    "    self.value = value\n",
    "\n",
    "  def get_value(self):\n",
    "    return card_values[self.value]\n"
   ]
  },
  {
   "cell_type": "code",
   "execution_count": 3,
   "metadata": {},
   "outputs": [],
   "source": [
    "class Player:\n",
    "  def __init__(self, name):\n",
    "    self.name = name\n",
    "    self.deck = []  # Add deck attribute to store player's unique cards\n",
    "    self.points = 0\n",
    "\n",
    "  def draw_card(self):\n",
    "    if len(self.deck) > 0:\n",
    "        self.deck.pop()  # Draw from player's deck\n",
    "    else:\n",
    "      print(f\"{self.name}'s deck is empty!\")\n",
    "\n",
    "  def bid(self):\n",
    "    # Implement bidding strategy here (e.g., random choice, AI logic)\n",
    "    chosen_card = random.choice(self.deck)\n",
    "    print(f\"{self.name} bids: {chosen_card.value}\")\n",
    "    return chosen_card\n",
    "\n",
    "  def update_points(self, round_points):\n",
    "    self.points += round_points\n"
   ]
  },
  {
   "cell_type": "code",
   "execution_count": 4,
   "metadata": {},
   "outputs": [],
   "source": [
    "class Banker:\n",
    "  def __init__(self):\n",
    "    self.diamond_deck = [Card(\"Diamonds\", value) for value in card_values.keys()]\n",
    "    random.shuffle(self.diamond_deck)  # Shuffle diamonds before dealing\n",
    "\n",
    "  def generate_diamond_card(self):\n",
    "    if len(self.diamond_deck) > 0:\n",
    "      revealed_diamond = self.diamond_deck.pop()  # Draw and remove a diamond\n",
    "      return revealed_diamond\n",
    "    else:\n",
    "      # Handle situation where all diamonds are used (game ends after this round)\n",
    "      return None\n"
   ]
  },
  {
   "cell_type": "code",
   "execution_count": 5,
   "metadata": {},
   "outputs": [],
   "source": [
    "def initialize_game(num_players):\n",
    "  # Create players, remove diamonds from deck, and distribute unique decks\n",
    "  players = [Player(f\"Player {i+1}\") for i in range(num_players)]\n",
    "\n",
    "  all_cards = [Card(suit, value) for suit in [\"Spades\", \"Hearts\", \"Clubs\"] for value in card_values.keys()]\n",
    "  random.shuffle(all_cards)\n",
    "\n",
    "  for player in players:\n",
    "    player.deck = all_cards[:13]  # Assign first 13 cards as player's deck\n",
    "    all_cards = all_cards[13:]  # Remove dealt cards from the overall deck\n",
    "\n",
    "  return players\n",
    "\n",
    "def play_round(players, banker):\n",
    "  # Bidding phase\n",
    "  players_and_bids = { player : player.bid() for player in players }\n",
    "\n",
    "  # Reveal phase and calculate points\n",
    "  revealed_diamond_card = banker.generate_diamond_card()\n",
    "  round_winner_card_value = max( [ bidded_card.get_value() for bidded_card in players_and_bids.values() ])\n",
    "  round_points = revealed_diamond_card.get_value()\n",
    "\n",
    "  # Handle ties or multiple winners\n",
    "  winning_players = [player for player in players if players_and_bids [ player ].get_value() == round_winner_card_value]\n",
    "  if len(winning_players) > 1:\n",
    "    round_points /= len(winning_players)  # Split points for ties\n",
    "\n",
    "  # Update player points\n",
    "  for player in winning_players:\n",
    "    player.update_points(round_points)\n",
    "\n",
    "  # Print round results\n",
    "  print(f\"Round winner(s): {[player.name for player in winning_players]}\")\n",
    "  print(f\"Revealed diamond value: {revealed_diamond_card.get_value()}\")\n",
    "  print(f\"Points awarded: {round_points}\")\n",
    "\n",
    "def play_game(num_players, num_rounds = 13):\n",
    "  players = initialize_game(num_players)\n",
    "  banker = Banker()\n",
    "\n",
    "  for round_num in range(1, num_rounds + 1):\n",
    "    print(f\"\\n** Round {round_num} **\")\n",
    "    play_round(players, banker)\n",
    "\n",
    "  # Print final scores\n",
    "  print(\"\\n** Final Scores **\")\n",
    "  for player in players:\n",
    "    print(f\"{player.name}: {player.points} points\")\n"
   ]
  },
  {
   "cell_type": "code",
   "execution_count": 6,
   "metadata": {},
   "outputs": [
    {
     "name": "stdout",
     "output_type": "stream",
     "text": [
      "\n",
      "** Round 1 **\n",
      "Player 1 bids: 9\n",
      "Player 2 bids: 9\n",
      "Player 3 bids: K\n",
      "Round winner(s): ['Player 3']\n",
      "Revealed diamond value: 14\n",
      "Points awarded: 14\n",
      "\n",
      "** Round 2 **\n",
      "Player 1 bids: J\n",
      "Player 2 bids: 5\n",
      "Player 3 bids: 2\n",
      "Round winner(s): ['Player 1']\n",
      "Revealed diamond value: 2\n",
      "Points awarded: 2\n",
      "\n",
      "** Round 3 **\n",
      "Player 1 bids: K\n",
      "Player 2 bids: 8\n",
      "Player 3 bids: 6\n",
      "Round winner(s): ['Player 1']\n",
      "Revealed diamond value: 4\n",
      "Points awarded: 4\n",
      "\n",
      "** Final Scores **\n",
      "Player 1: 6 points\n",
      "Player 2: 0 points\n",
      "Player 3: 14 points\n"
     ]
    }
   ],
   "source": [
    "play_game( 3 , 3 )"
   ]
  }
 ],
 "metadata": {
  "kernelspec": {
   "display_name": "Python 3",
   "language": "python",
   "name": "python3"
  },
  "language_info": {
   "codemirror_mode": {
    "name": "ipython",
    "version": 3
   },
   "file_extension": ".py",
   "mimetype": "text/x-python",
   "name": "python",
   "nbconvert_exporter": "python",
   "pygments_lexer": "ipython3",
   "version": "3.11.0"
  }
 },
 "nbformat": 4,
 "nbformat_minor": 2
}
