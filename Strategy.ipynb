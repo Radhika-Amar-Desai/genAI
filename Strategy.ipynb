{
 "cells": [
  {
   "cell_type": "code",
   "execution_count": 1,
   "metadata": {},
   "outputs": [],
   "source": [
    "def get_remaining_diamonds(revealed_diamonds):\n",
    "  \"\"\"\n",
    "  This function calculates the remaining diamond cards based on revealed diamonds.\n",
    "\n",
    "  Args:\n",
    "      revealed_diamonds: List of revealed diamond values (integers).\n",
    "\n",
    "  Returns:\n",
    "      List: Remaining diamond cards (2-14).\n",
    "  \"\"\"\n",
    "  all_diamonds = list(range(2, 15))  # List of all diamond values\n",
    "  remaining_diamonds = [diamond for diamond in all_diamonds if diamond not in revealed_diamonds]\n",
    "  return remaining_diamonds"
   ]
  },
  {
   "cell_type": "code",
   "execution_count": 2,
   "metadata": {},
   "outputs": [],
   "source": [
    "def calculate_diamond_probability(revealed_diamonds):\n",
    "  \"\"\"\n",
    "  This function calculates the probability of each diamond value being revealed.\n",
    "\n",
    "  Args:\n",
    "      revealed_diamonds: List of revealed diamond values (integers).\n",
    "\n",
    "  Returns:\n",
    "      Dictionary: Probabilities for each diamond value (2-14).\n",
    "  \"\"\"\n",
    "  remaining_cards = get_remaining_diamonds(revealed_diamonds)  # Call separate function\n",
    "  total_diamonds = 13  # Assuming 13 diamonds in the deck initially\n",
    "  diamond_probs_of_remaining_cards = { value : remaining_cards.count(value) / (total_diamonds - len(revealed_diamonds))\\\n",
    "                                      for value in range(2, 15) if value in remaining_cards }\n",
    "  return diamond_probs_of_remaining_cards"
   ]
  },
  {
   "cell_type": "code",
   "execution_count": 3,
   "metadata": {},
   "outputs": [],
   "source": [
    "from functools import reduce\n",
    "\n",
    "def probability_of_winning(individual_player_cards, card_to_win):\n",
    "  \"\"\"\n",
    "  This function calculates the probability of a card winning the trick.\n",
    "\n",
    "  Args:\n",
    "      individual_player_cards: Dictionary where keys are players and values are lists of their remaining cards (excluding diamonds).\n",
    "      card_to_win: Integer value of the card that needs to win.\n",
    "\n",
    "  Returns:\n",
    "      Float: Probability of the card winning the trick.\n",
    "  \"\"\"\n",
    "\n",
    "  all_cards = reduce ( lambda x,y : x + y, [ player_cards for player_cards in individual_player_cards ] )\n",
    "\n",
    "  favorable_cards = sum([card_value < card_to_win for card_value in all_cards])\n",
    "\n",
    "  # Total possible combinations (product of remaining cards for each player)\n",
    "  total_combinations = reduce( lambda x, y : x * y, [ len(player_cards) for player_cards in individual_player_cards ] )\n",
    "\n",
    "  return favorable_cards / total_combinations"
   ]
  },
  {
   "cell_type": "code",
   "execution_count": 4,
   "metadata": {},
   "outputs": [],
   "source": [
    "def calculate_expected_points(hand, revealed_diamonds, other_player_cards):\n",
    "  \"\"\"\n",
    "  This function calculates the expected points for bidding each card in your hand.\n",
    "\n",
    "  Args:\n",
    "      hand: List of card values (integers) in your hand.\n",
    "      _: Placeholder argument for revealed_diamonds (not used).\n",
    "\n",
    "  Returns:\n",
    "      Dictionary: Expected points for bidding each card in your hand.\n",
    "  \"\"\"\n",
    "\n",
    "  def get_expected_points_for_card ( card_in_hand, remaining_diamonds_prob ):\n",
    "\n",
    "    expected_points_with_diamond_prob = sum( card * prob for card, prob in remaining_diamonds_prob.items()) / len ( remaining_diamonds_prob )\n",
    "    expected_points_with_winning_prob = expected_points_with_diamond_prob * probability_of_winning ( other_player_cards, card_in_hand )\n",
    "\n",
    "    return expected_points_with_winning_prob\n",
    "\n",
    "  remaining_diamonds_prob = calculate_diamond_probability ( revealed_diamonds )\n",
    "\n",
    "  expected_points = { card_in_hand : get_expected_points_for_card ( card_in_hand, remaining_diamonds_prob ) for card_in_hand in hand}\n",
    "\n",
    "  return expected_points"
   ]
  },
  {
   "cell_type": "code",
   "execution_count": 5,
   "metadata": {},
   "outputs": [
    {
     "name": "stdout",
     "output_type": "stream",
     "text": [
      "Recommended bid (knowing all revealed diamonds): 10\n"
     ]
    }
   ],
   "source": [
    "def probabilistic_bidding(hand, revealed_diamonds, other_players_cards):\n",
    "  \"\"\"\n",
    "  This function chooses the card to bid based on expected points.\n",
    "\n",
    "  Args:\n",
    "      hand: List of card values (integers) in your hand.\n",
    "      revealed_diamonds: List of revealed diamond values (integers).\n",
    "\n",
    "  Returns:\n",
    "      Integer: The card value to bid (from your hand).\n",
    "  \"\"\"\n",
    "  expected_points = calculate_expected_points(hand, revealed_diamonds, other_players_cards)\n",
    "  best_card = max(expected_points, key=expected_points.get)\n",
    "  return best_card\n",
    "\n",
    "# Example usage (assuming revealed diamonds are tracked):\n",
    "revealed_diamonds = [9, 7]  # Example: Two diamonds (9 and 7) revealed\n",
    "my_hand = [5, 10, 12]  # Example hand\n",
    "other_players_cards = [[1,2,3],[4,5]]\n",
    "\n",
    "best_bid = probabilistic_bidding(my_hand, revealed_diamonds, other_players_cards)\n",
    "print(f\"Recommended bid (knowing all revealed diamonds): {best_bid}\")\n"
   ]
  }
 ],
 "metadata": {
  "kernelspec": {
   "display_name": "Python 3",
   "language": "python",
   "name": "python3"
  },
  "language_info": {
   "codemirror_mode": {
    "name": "ipython",
    "version": 3
   },
   "file_extension": ".py",
   "mimetype": "text/x-python",
   "name": "python",
   "nbconvert_exporter": "python",
   "pygments_lexer": "ipython3",
   "version": "3.11.0"
  }
 },
 "nbformat": 4,
 "nbformat_minor": 2
}
